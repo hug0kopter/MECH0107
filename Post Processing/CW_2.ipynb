{
 "cells": [
  {
   "cell_type": "code",
   "execution_count": 1,
   "id": "bfec6725-9a6d-422d-b9cc-8e0b671dd628",
   "metadata": {},
   "outputs": [
    {
     "name": "stdout",
     "output_type": "stream",
     "text": [
      "         W1        W2         R         t  sigma_max       mass  runtime\n",
      "0  0.453176  0.109103  0.050891  0.018525  33.511278  38.817408   22.156\n",
      "1  0.545083  0.173166  0.049431  0.014302  57.556616  41.342222   26.774\n",
      "2  0.511916  0.132664  0.043735  0.017039  42.156568  45.060976   24.496\n",
      "3  0.521147  0.145586  0.056524  0.018902  36.736828  51.257317   24.262\n",
      "4  0.448400  0.147370  0.051096  0.016280  47.511308  31.631060   19.959\n"
     ]
    }
   ],
   "source": [
    "import pandas as pd\n",
    "\n",
    "# Load the dataset\n",
    "df = pd.read_csv('simulation_results.csv')\n",
    "\n",
    "# Show first few rows\n",
    "print(df.head())"
   ]
  },
  {
   "cell_type": "code",
   "execution_count": null,
   "id": "d80ab2d9-62f6-4f75-80de-b9eef22db143",
   "metadata": {},
   "outputs": [],
   "source": []
  }
 ],
 "metadata": {
  "kernelspec": {
   "display_name": "Python 3 (ipykernel)",
   "language": "python",
   "name": "python3"
  },
  "language_info": {
   "codemirror_mode": {
    "name": "ipython",
    "version": 3
   },
   "file_extension": ".py",
   "mimetype": "text/x-python",
   "name": "python",
   "nbconvert_exporter": "python",
   "pygments_lexer": "ipython3",
   "version": "3.12.7"
  }
 },
 "nbformat": 4,
 "nbformat_minor": 5
}
