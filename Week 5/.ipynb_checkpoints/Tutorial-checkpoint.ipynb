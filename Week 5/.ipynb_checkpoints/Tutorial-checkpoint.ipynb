{
 "cells": [
  {
   "cell_type": "markdown",
   "id": "860afae4-6c97-4014-94e9-037178ef8290",
   "metadata": {},
   "source": [
    "You are an engineer developing a machine learning model to predict the buckling performance of the mono-stiffened panel from Question 5. The model will use two input variables: the panel width W and length L. It is not possible to investigate all possible values of W and L, so they are constrained within the domain specified in the third column of Table 1.\n",
    "Write Python code to generate 50 Latin hypercube samples for training the model and plot your samples. Note that Latin hypercube sampling produces values in the range [0, 1], so you must scale the samples using the lower and upper bounds from Table 1."
   ]
  },
  {
   "cell_type": "markdown",
   "id": "d8f361b1-fb67-4ce0-be59-9dee55e5b1c9",
   "metadata": {},
   "source": [
    "Plate width = [0.1, 0.2]\n",
    "Plate length = [0.5, 0.8]"
   ]
  },
  {
   "cell_type": "code",
   "execution_count": 2,
   "id": "544b515f-1cd6-4ea4-9d10-e3998b96892c",
   "metadata": {},
   "outputs": [],
   "source": [
    "import matplotlib.pyplot as plt\n",
    "import numpy as np\n",
    "\n",
    "from smt.sampling_methods import LHS"
   ]
  },
  {
   "cell_type": "code",
   "execution_count": 7,
   "id": "b987899a-bfa7-42fa-a66d-cfde4f9b58e1",
   "metadata": {},
   "outputs": [
    {
     "name": "stdout",
     "output_type": "stream",
     "text": [
      "(50, 2)\n"
     ]
    },
    {
     "data": {
      "image/png": "[encoded data removed]",
      "text/plain": [
       "<Figure size 640x480 with 1 Axes>"
      ]
     },
     "metadata": {},
     "output_type": "display_data"
    }
   ],
   "source": [
    "xlimits = np.array([[0.1, 0.2], [0.5, 0.8]])\n",
    "sampling = LHS(xlimits=xlimits)\n",
    "\n",
    "num = 50\n",
    "x = sampling(num)\n",
    "\n",
    "print(x.shape)\n",
    "\n",
    "plt.plot(x[:, 0], x[:, 1], \"o\")\n",
    "plt.xlabel(\"x\")\n",
    "plt.ylabel(\"y\")\n",
    "plt.show()"
   ]
  },
  {
   "cell_type": "raw",
   "id": "d2804714-8907-4199-b2e8-a22f44f9e1c8",
   "metadata": {},
   "source": [
    "12. Write Python code to split the following dataset into 70% training and 30% testing sets using scikit-learn.\n",
    "\n",
    "X1    X2    Y\n",
    "5.1   3.5   0\n",
    "4.9   3.0   1\n",
    "4.7   3.2   0\n",
    "4.6   3.1   1\n",
    "5.0   3.6   0\n",
    "5.4   3.9   1\n",
    "4.6   3.4   0\n",
    "5.0   3.0   1\n",
    "4.4   2.9   0\n",
    "5.2   3.7   1"
   ]
  },
  {
   "cell_type": "code",
   "execution_count": 9,
   "id": "281283f7-f6ef-498d-aa15-5275068b2c30",
   "metadata": {},
   "outputs": [
    {
     "name": "stdout",
     "output_type": "stream",
     "text": [
      "Train dataset: \n",
      " [[5.1 3.5 0. ]\n",
      " [4.9 3.  1. ]\n",
      " [4.7 3.2 0. ]\n",
      " [4.6 3.1 1. ]\n",
      " [5.  3.6 0. ]\n",
      " [5.4 3.9 1. ]\n",
      " [4.6 3.4 0. ]]\n",
      "Test dataset: \n",
      " [[5.  3.  1. ]\n",
      " [4.4 2.9 0. ]\n",
      " [5.2 3.7 1. ]]\n"
     ]
    }
   ],
   "source": [
    "from sklearn.model_selection import train_test_split\n",
    "\n",
    "data = np.array([\n",
    "    [5.1, 3.5, 0],\n",
    "    [4.9, 3.0, 1],\n",
    "    [4.7, 3.2, 0],\n",
    "    [4.6, 3.1, 1],\n",
    "    [5.0, 3.6, 0],\n",
    "    [5.4, 3.9, 1],\n",
    "    [4.6, 3.4, 0],\n",
    "    [5.0, 3.0, 1],\n",
    "    [4.4, 2.9, 0],\n",
    "    [5.2, 3.7, 1]\n",
    "])\n",
    "\n",
    "train, test =train_test_split(data, train_size=0.7, shuffle=False)\n",
    "\n",
    "print(f'Train dataset: \\n {train}')\n",
    "print(f'Test dataset: \\n {test}')\n"
   ]
  },
  {
   "cell_type": "markdown",
   "id": "a53d8932-7854-4ba0-a017-103d460a779b",
   "metadata": {},
   "source": [
    "13. The below code is performing K-fold cross validation and leave-one-out cross validation (LOOCV).\n",
    "(a) Why does the function cross val score use the negative Mean Absolute Error (-MAE) as the scoring parameter, and not the positive MAE? Think about whether cross val score is trying to maximise or minimise the scoring parameter.\n",
    "(b) Compare K-fold cross-validation using K=5 and K=1000. How do the computation time and the average Mean Absolute Error (MAE) differ between these two cases?"
   ]
  },
  {
   "cell_type": "code",
   "execution_count": 12,
   "id": "4138af19-9903-47be-9d1b-9933ae8141fd",
   "metadata": {},
   "outputs": [
    {
     "name": "stdout",
     "output_type": "stream",
     "text": [
      "K-fold average MAE: 7.9250\n",
      "LOOCV average MAE: 7.9153\n",
      "K-fold time: 0.0061\n",
      "LOOCV time: 0.3191\n"
     ]
    }
   ],
   "source": [
    "from sklearn.datasets import make_regression\n",
    "from sklearn.model_selection import cross_val_score, LeaveOneOut\n",
    "from sklearn.linear_model import LinearRegression\n",
    "import numpy as np\n",
    "import time\n",
    "\n",
    "\n",
    "# Generate a simple regression dataset\n",
    "X, y = make_regression(n_samples=1000, n_features=1, noise=10, random_state=42)\n",
    "\n",
    "# Initialize the linear regression model\n",
    "model = LinearRegression()\n",
    "model.fit(X, y)\n",
    "\n",
    "# Perform K-fold cross-validation\n",
    "start = time.time()\n",
    "kfold_scores = cross_val_score(model, X, y, cv=5, scoring='neg_mean_absolute_error')\n",
    "end = time.time()\n",
    "kfold_time = end - start;\n",
    "\n",
    "# Perform LOOCV\n",
    "loocv = LeaveOneOut()\n",
    "start = time.time()\n",
    "loocv_scores = cross_val_score(model, X, y, cv=loocv, scoring='neg_mean_absolute_error')\n",
    "end = time.time()\n",
    "kloocv_time = end - start;\n",
    "\n",
    "# Calculate Mean Absolute Errors (MAE) for K-fold and LOOCV\n",
    "kfold_avg_score = -np.mean(kfold_scores)\n",
    "loocv_avg_score = -np.mean(loocv_scores)\n",
    "\n",
    "# Compare mean MAE for K-fold and LOOCV\n",
    "print(f\"K-fold average MAE: {kfold_avg_score:.4f}\")\n",
    "print(f\"LOOCV average MAE: {loocv_avg_score:.4f}\")\n",
    "\n",
    "# Compare computation time for K-fold and LOOCV\n",
    "print(f\"K-fold time: {kfold_time:.4f}\")\n",
    "print(f\"LOOCV time: {kloocv_time:.4f}\")"
   ]
  }
 ],
 "metadata": {
  "kernelspec": {
   "display_name": "Python 3 (ipykernel)",
   "language": "python",
   "name": "python3"
  },
  "language_info": {
   "codemirror_mode": {
    "name": "ipython",
    "version": 3
   },
   "file_extension": ".py",
   "mimetype": "text/x-python",
   "name": "python",
   "nbconvert_exporter": "python",
   "pygments_lexer": "ipython3",
   "version": "3.12.7"
  }
 },
 "nbformat": 4,
 "nbformat_minor": 5
}
