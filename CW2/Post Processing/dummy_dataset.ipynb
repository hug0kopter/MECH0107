{
 "cells": [
  {
   "cell_type": "code",
   "execution_count": 1,
   "id": "6f6f1a5e-59f8-42db-8ecc-59c1a8bb18a8",
   "metadata": {},
   "outputs": [
    {
     "name": "stdout",
     "output_type": "stream",
     "text": [
      "✅ Mock dataset saved as 'mock_simulation_results.csv'\n"
     ]
    }
   ],
   "source": [
    "import numpy as np\n",
    "import pandas as pd\n",
    "\n",
    "# Number of samples\n",
    "N = 1100\n",
    "rho = 2700  # kg/m³\n",
    "\n",
    "# Design bounds\n",
    "bounds = {\n",
    "    'W1': (0.4, 0.6),\n",
    "    'W2': (0.1, 0.2),\n",
    "    'R':  (0.04, 0.06),\n",
    "    't':  (0.01, 0.02)\n",
    "}\n",
    "\n",
    "# Generate Latin Hypercube Samples\n",
    "from scipy.stats import qmc\n",
    "sampler = qmc.LatinHypercube(d=4)\n",
    "X_norm = sampler.random(n=N)\n",
    "\n",
    "# Scale to actual ranges\n",
    "def scale_column(x, min_val, max_val):\n",
    "    return min_val + x * (max_val - min_val)\n",
    "\n",
    "W1 = scale_column(X_norm[:, 0], *bounds['W1'])\n",
    "W2 = scale_column(X_norm[:, 1], *bounds['W2'])\n",
    "R  = scale_column(X_norm[:, 2], *bounds['R'])\n",
    "t  = scale_column(X_norm[:, 3], *bounds['t'])\n",
    "\n",
    "# Calculate mass using the given formula\n",
    "mass = rho * t * (4 * W1**2 - 4 * W2**2 + (4 - np.pi) * R**2)\n",
    "\n",
    "# Dummy stress function (purely made-up but varies nonlinearly)\n",
    "def dummy_stress(W1, W2, R, t):\n",
    "    return (500 + \n",
    "            100 * np.sin(5 * W2) + \n",
    "            75 * np.log(W1 + 1) - \n",
    "            300 * t + \n",
    "            50 * R**2)\n",
    "\n",
    "sigma_max = dummy_stress(W1, W2, R, t)\n",
    "\n",
    "# Dummy runtime: small variations around 5 seconds\n",
    "runtime = np.random.normal(loc=5.0, scale=0.2, size=N)\n",
    "\n",
    "# Save to CSV\n",
    "df = pd.DataFrame({\n",
    "    'W1': W1,\n",
    "    'W2': W2,\n",
    "    'R': R,\n",
    "    't': t,\n",
    "    'sigma_max': sigma_max,\n",
    "    'mass': mass,\n",
    "    'runtime': runtime\n",
    "})\n",
    "\n",
    "df.to_csv('mock_simulation_results.csv', index=False)\n",
    "print(\"✅ Mock dataset saved as 'mock_simulation_results.csv'\")\n"
   ]
  }
 ],
 "metadata": {
  "kernelspec": {
   "display_name": "Python 3 (ipykernel)",
   "language": "python",
   "name": "python3"
  },
  "language_info": {
   "codemirror_mode": {
    "name": "ipython",
    "version": 3
   },
   "file_extension": ".py",
   "mimetype": "text/x-python",
   "name": "python",
   "nbconvert_exporter": "python",
   "pygments_lexer": "ipython3",
   "version": "3.12.7"
  }
 },
 "nbformat": 4,
 "nbformat_minor": 5
}
