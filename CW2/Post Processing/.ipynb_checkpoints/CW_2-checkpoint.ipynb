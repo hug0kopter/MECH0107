{
 "cells": [
  {
   "cell_type": "code",
   "execution_count": 11,
   "id": "bdabb421-f67a-4c70-9d07-e259d5fb5abe",
   "metadata": {},
   "outputs": [],
   "source": [
    "import numpy as np\n",
    "import pandas as pd\n",
    "import matplotlib.pyplot as pltt\n",
    "import joblib\n",
    "import os"
   ]
  },
  {
   "cell_type": "code",
   "execution_count": 6,
   "id": "aef0c293-f34e-441d-9529-b831cde1a64e",
   "metadata": {},
   "outputs": [
    {
     "name": "stdout",
     "output_type": "stream",
     "text": [
      "         W1        W2         R         t  sigma_max       mass  runtime\n",
      "0  0.453176  0.109103  0.050891  0.018525  33.511278  38.817408   22.156\n",
      "1  0.545083  0.173166  0.049431  0.014302  57.556616  41.342222   26.774\n",
      "2  0.511916  0.132664  0.043735  0.017039  42.156568  45.060976   24.496\n",
      "3  0.521147  0.145586  0.056524  0.018902  36.736828  51.257317   24.262\n",
      "4  0.448400  0.147370  0.051096  0.016280  47.511308  31.631060   19.959\n"
     ]
    }
   ],
   "source": [
    "# Load the dataset\n",
    "df = pd.read_csv('simulation_results.csv')\n",
    "\n",
    "# Show first few rows\n",
    "print(df.head())"
   ]
  },
  {
   "cell_type": "code",
   "execution_count": null,
   "id": "b23abb27-cef8-479a-a474-3922af3a533b",
   "metadata": {},
   "outputs": [],
   "source": [
    "\n",
    "\n",
    "# Choose two variables from your actual dataset\n",
    "x = df['W1']\n",
    "y = df['W2']\n",
    "\n",
    "plt.figure(figsize=(6, 6))\n",
    "plt.scatter(x, y, color='blue', label='LHS Samples')\n",
    "plt.xlabel('W1 (Plate half-width) [m]')\n",
    "plt.ylabel('W2 (Port half-width) [m]')\n",
    "plt.title('LHS Distribution of W1 vs W2')\n",
    "plt.xlim(x.min(), x.max())\n",
    "plt.ylim(y.min(), y.max())\n",
    "plt.grid(True)\n",
    "plt.legend()\n",
    "plt.show()"
   ]
  },
  {
   "cell_type": "code",
   "execution_count": 4,
   "id": "5095c213-d22d-46a9-b5f5-897c4d520b4d",
   "metadata": {},
   "outputs": [
    {
     "name": "stdout",
     "output_type": "stream",
     "text": [
      "W1: chi2 = 0.02, p = 1.000\n",
      "W2: chi2 = 0.05, p = 1.000\n",
      "R: chi2 = 0.07, p = 1.000\n",
      "t: chi2 = 0.00, p = 1.000\n",
      "sigma_max: chi2 = 1046.73, p = 0.000\n",
      "mass: chi2 = 367.78, p = 0.000\n",
      "runtime: chi2 = 540.25, p = 0.000\n"
     ]
    }
   ],
   "source": [
    "from scipy.stats import chisquare\n",
    "import numpy as np\n",
    "\n",
    "def check_uniformity(series, bins=10):\n",
    "    counts, _ = np.histogram(series, bins=bins)\n",
    "    expected = [len(series) / bins] * bins\n",
    "    chi2_stat, p = chisquare(counts, f_exp=expected)\n",
    "    return chi2_stat, p\n",
    "\n",
    "for col in df.columns:\n",
    "    stat, p = check_uniformity(df[col])\n",
    "    print(f\"{col}: chi2 = {stat:.2f}, p = {p:.3f}\")"
   ]
  },
  {
   "cell_type": "markdown",
   "id": "4825e9c9-617c-49dd-b6ed-121a28e36de5",
   "metadata": {},
   "source": [
    "# Gaussian Process Regression Model"
   ]
  },
  {
   "cell_type": "code",
   "execution_count": 12,
   "id": "089435b0-329b-420d-88ae-03084ab13540",
   "metadata": {},
   "outputs": [],
   "source": [
    "from sklearn.gaussian_process.kernels import RBF, Matern, WhiteKernel, ConstantKernel as C\n",
    "from sklearn.gaussian_process import GaussianProcessRegressor\n",
    "from sklearn.metrics import mean_absolute_error, r2_score\n",
    "from sklearn.model_selection import train_test_split, cross_val_score\n",
    "from sklearn.preprocessing import MinMaxScaler"
   ]
  },
  {
   "cell_type": "markdown",
   "id": "f8547b8d-ad98-4d74-b564-2068e6cabbe4",
   "metadata": {},
   "source": [
    "Data preparation:"
   ]
  },
  {
   "cell_type": "code",
   "execution_count": 13,
   "id": "6336326b-0dff-42dd-a8eb-134908ca754f",
   "metadata": {},
   "outputs": [],
   "source": [
    "# Split the dataset into the input features and output stress\n",
    "X = df[['W1', 'W2', 'R', 't']].values\n",
    "Y = df['sigma_max'].values\n",
    "\n",
    "# Extracting every 8th point to preserve LHS sampling but decrease dataset size:\n",
    "# X_resampled = X[::4]\n",
    "# Y_resampled = Y[::4]\n",
    "\n",
    "\n",
    "# Normalising inputs to [0, 1] (helps GPR performance)\n",
    "scaler = MinMaxScaler()\n",
    "X_scaled = scaler.fit_transform(X)\n",
    "\n",
    "\n",
    "# Train, Validate, Test split:\n",
    "\n",
    "# Split: 70% train, 30% temp\n",
    "X_train, X_temp, Y_train, Y_temp = train_test_split(X_scaled, Y, test_size=0.3, random_state=42)\n",
    "\n",
    "# Split the remaining 30% equally into validation and test (15% each)\n",
    "X_val, X_test, Y_val, Y_test = train_test_split(X_temp, Y_temp, test_size=0.5, random_state=42)"
   ]
  },
  {
   "cell_type": "markdown",
   "id": "7c5f95de-91d6-492a-8cea-54f4581329ea",
   "metadata": {},
   "source": [
    "## GPR training with different kernels:"
   ]
  },
  {
   "cell_type": "code",
   "execution_count": 14,
   "id": "8e8f151d-f703-4fb8-b276-f1b9d39991de",
   "metadata": {},
   "outputs": [
    {
     "name": "stderr",
     "output_type": "stream",
     "text": [
      "/opt/homebrew/anaconda3/lib/python3.12/site-packages/sklearn/gaussian_process/_gpr.py:659: ConvergenceWarning: lbfgs failed to converge (status=2):\n",
      "ABNORMAL_TERMINATION_IN_LNSRCH.\n",
      "\n",
      "Increase the number of iterations (max_iter) or scale the data as shown in:\n",
      "    https://scikit-learn.org/stable/modules/preprocessing.html\n",
      "  _check_optimize_result(\"lbfgs\", opt_res)\n"
     ]
    },
    {
     "name": "stdout",
     "output_type": "stream",
     "text": [
      "RBF:\n",
      "  Validation R² = 0.9990, MAE = 0.3194\n",
      "  Test R²       = 0.9989, MAE = 0.3096\n",
      "\n"
     ]
    },
    {
     "name": "stderr",
     "output_type": "stream",
     "text": [
      "/opt/homebrew/anaconda3/lib/python3.12/site-packages/sklearn/gaussian_process/_gpr.py:659: ConvergenceWarning: lbfgs failed to converge (status=2):\n",
      "ABNORMAL_TERMINATION_IN_LNSRCH.\n",
      "\n",
      "Increase the number of iterations (max_iter) or scale the data as shown in:\n",
      "    https://scikit-learn.org/stable/modules/preprocessing.html\n",
      "  _check_optimize_result(\"lbfgs\", opt_res)\n"
     ]
    },
    {
     "name": "stdout",
     "output_type": "stream",
     "text": [
      "RBF + WhiteKernel:\n",
      "  Validation R² = 1.0000, MAE = 0.0657\n",
      "  Test R²       = 1.0000, MAE = 0.0594\n",
      "\n"
     ]
    },
    {
     "name": "stderr",
     "output_type": "stream",
     "text": [
      "/opt/homebrew/anaconda3/lib/python3.12/site-packages/sklearn/gaussian_process/_gpr.py:659: ConvergenceWarning: lbfgs failed to converge (status=2):\n",
      "ABNORMAL_TERMINATION_IN_LNSRCH.\n",
      "\n",
      "Increase the number of iterations (max_iter) or scale the data as shown in:\n",
      "    https://scikit-learn.org/stable/modules/preprocessing.html\n",
      "  _check_optimize_result(\"lbfgs\", opt_res)\n"
     ]
    },
    {
     "name": "stdout",
     "output_type": "stream",
     "text": [
      "Matern 3/2:\n",
      "  Validation R² = 0.9999, MAE = 0.0846\n",
      "  Test R²       = 0.9999, MAE = 0.0867\n",
      "\n",
      "Best kernel: RBF + WhiteKernel (Validation R² = 1.0000)\n"
     ]
    },
    {
     "name": "stderr",
     "output_type": "stream",
     "text": [
      "/opt/homebrew/anaconda3/lib/python3.12/site-packages/sklearn/gaussian_process/kernels.py:452: ConvergenceWarning: The optimal value found for dimension 0 of parameter k1__constant_value is close to the specified upper bound 10000.0. Increasing the bound and calling fit again may find a better value.\n",
      "  warnings.warn(\n"
     ]
    }
   ],
   "source": [
    "# Define candidate kernels\n",
    "kernels = {\n",
    "    \"RBF\": C(1.0, (1e-4, 1e4)) * RBF(length_scale=1.0, length_scale_bounds=(1e-4, 1e4)),\n",
    "    \"RBF + WhiteKernel\": (C(1.0, (1e-4, 1e4)) * RBF(1.0, (1e-4, 1e4))) + WhiteKernel(noise_level=1e-2, noise_level_bounds=(1e-6, 1e1)),\n",
    "    \"Matern 3/2\": C(1.0, (1e-4, 1e4)) * Matern(length_scale=1.0, nu=1.5),\n",
    "}\n",
    "\n",
    "best_model = None\n",
    "best_kernel_name = None\n",
    "best_score = -np.inf\n",
    "\n",
    "# Compare all kernels\n",
    "for name, kernel in kernels.items():\n",
    "    gpr = GaussianProcessRegressor(kernel=kernel, n_restarts_optimizer=5, normalize_y=True)\n",
    "    gpr.fit(X_train, Y_train)\n",
    "\n",
    "    Y_val_pred = gpr.predict(X_val)\n",
    "    val_score = r2_score(Y_val, Y_val_pred)\n",
    "    val_mae = mean_absolute_error(Y_val, Y_val_pred)\n",
    "\n",
    "    Y_test_pred = gpr.predict(X_test)\n",
    "    test_score = r2_score(Y_test, Y_test_pred)\n",
    "    test_mae = mean_absolute_error(Y_test, Y_test_pred)\n",
    "\n",
    "    print(f\"{name}:\\n\"\n",
    "          f\"  Validation R² = {val_score:.4f}, MAE = {val_mae:.4f}\\n\"\n",
    "          f\"  Test R²       = {test_score:.4f}, MAE = {test_mae:.4f}\\n\")\n",
    "\n",
    "    if val_score > best_score:\n",
    "        best_score = val_score\n",
    "        best_model = gpr\n",
    "        best_kernel_name = name\n",
    "\n",
    "print(f\"Best kernel: {best_kernel_name} (Validation R² = {best_score:.4f})\")\n",
    "\n",
    "# Predict using the best model for plotting, etc.\n",
    "Y_test_pred = best_model.predict(X_test, return_std=False)\n"
   ]
  },
  {
   "cell_type": "markdown",
   "id": "b4bf1087-315a-4106-b763-cb4a5b4fb107",
   "metadata": {},
   "source": [
    "###  **1. Mean Absolute Error (MAE)**\n",
    "\n",
    "- **Validation MAE: 0.3194**\n",
    "- **Test MAE: 0.3096**\n",
    "\n",
    " **What it is:**  \n",
    "The average absolute difference between the predicted and true values. In this case, since the model predicting stress (`σ_max`), the units are in **MPa**.\n",
    "\n",
    " **How to interpret:**  \n",
    "> \"On average, the GPR model predicts `σ_max` within about ±0.31 MPa of the true FEA value.\"\n",
    "\n",
    " A **very small MAE** (given stress values might range ~30–60 MPa in your dataset) — this means this model is highly accurate.\n",
    "\n",
    "---\n",
    "\n",
    "###  **2. R² Score (Coefficient of Determination)**\n",
    "\n",
    "- **Validation R²: 0.9990**\n",
    "- **Test R²: 0.9989**\n",
    "\n",
    " **What it is:**  \n",
    "A measure of how much variance in the target (`σ_max`) this model explains.\n",
    "\n",
    "\\[\n",
    "R^2 = 1 - \\frac{\\text{Residual Sum of Squares}}{\\text{Total Sum of Squares}}\n",
    "\\]\n",
    "\n",
    " **How to interpret:**  \n",
    "> \"The model explains **99.9%** of the variability in stress values on the validation set.\"\n",
    "\n",
    " **R² close to 1** means the surrogate is almost perfectly replicating the behavior of your simulation — excellent for surrogate modeling!\n",
    "\n",
    "---\n",
    "\n",
    "###  TL;DR Summary\n",
    "\n",
    "| Metric      | Value  | Interpretation                                       |\n",
    "|-------------|--------|------------------------------------------------------|\n",
    "| MAE         | ~0.31  | Very low error — predictions are very close to true |\n",
    "| R² Score    | ~0.999 | Model explains nearly all variance — near-perfect fit |\n",
    "\n"
   ]
  },
  {
   "cell_type": "code",
   "execution_count": 43,
   "id": "5b27810d-04c3-446f-931c-79e23e12a886",
   "metadata": {},
   "outputs": [
    {
     "data": {
      "image/png": "[encoded data removed]",
      "text/plain": [
       "<Figure size 640x480 with 1 Axes>"
      ]
     },
     "metadata": {},
     "output_type": "display_data"
    }
   ],
   "source": [
    "import matplotlib.pyplot as plt\n",
    "\n",
    "plt.scatter(Y_test, Y_test_pred, alpha=0.8)\n",
    "plt.plot([Y_test.min(), Y_test.max()], [Y_test.min(), Y_test.max()], 'k--')\n",
    "plt.xlabel(\"True σ_max\")\n",
    "plt.ylabel(\"Predicted σ_max\")\n",
    "plt.title(\"GPR: Predicted vs True Stress\")\n",
    "plt.grid(True)\n",
    "plt.show()"
   ]
  },
  {
   "cell_type": "markdown",
   "id": "3dbdf694-c697-4b30-aef5-1f9eed657af1",
   "metadata": {},
   "source": [
    "## Cross-validation"
   ]
  },
  {
   "cell_type": "code",
   "execution_count": 36,
   "id": "1d54abc0-5f6e-4006-8ede-32110a824b9c",
   "metadata": {},
   "outputs": [
    {
     "name": "stderr",
     "output_type": "stream",
     "text": [
      "/opt/homebrew/anaconda3/lib/python3.12/site-packages/sklearn/gaussian_process/_gpr.py:659: ConvergenceWarning: lbfgs failed to converge (status=2):\n",
      "ABNORMAL_TERMINATION_IN_LNSRCH.\n",
      "\n",
      "Increase the number of iterations (max_iter) or scale the data as shown in:\n",
      "    https://scikit-learn.org/stable/modules/preprocessing.html\n",
      "  _check_optimize_result(\"lbfgs\", opt_res)\n",
      "/opt/homebrew/anaconda3/lib/python3.12/site-packages/sklearn/gaussian_process/_gpr.py:659: ConvergenceWarning: lbfgs failed to converge (status=2):\n",
      "ABNORMAL_TERMINATION_IN_LNSRCH.\n",
      "\n",
      "Increase the number of iterations (max_iter) or scale the data as shown in:\n",
      "    https://scikit-learn.org/stable/modules/preprocessing.html\n",
      "  _check_optimize_result(\"lbfgs\", opt_res)\n"
     ]
    },
    {
     "name": "stdout",
     "output_type": "stream",
     "text": [
      "Cross-Validation MAEs: [0.06257145 0.05798946 0.05674585 0.0591131  0.06319405]\n",
      "Mean CV MAE: 0.059922781506689095\n"
     ]
    }
   ],
   "source": [
    "from sklearn.model_selection import cross_val_score\n",
    "from sklearn.gaussian_process import GaussianProcessRegressor\n",
    "\n",
    "# Define the kernel (use the one that worked well, e.g., RBF + WhiteKernel)\n",
    "kernel = (C(1.0, (1e-3, 1e5)) * RBF(1.0, (1e-4, 1e5))) + WhiteKernel(noise_level=1e-2, noise_level_bounds=(1e-6, 1e1))\n",
    "\n",
    "# Scale full dataset\n",
    "X = df[['W1', 'W2', 'R', 't']].values\n",
    "Y = df['sigma_max'].values\n",
    "X_scaled = scaler.fit_transform(X)  # reuse MinMaxScaler or define new one\n",
    "\n",
    "# Set up GPR model\n",
    "gpr = GaussianProcessRegressor(kernel=kernel, n_restarts_optimizer=5, normalize_y=True)\n",
    "\n",
    "# Run 5-fold cross-validation using negative MAE\n",
    "scores = cross_val_score(gpr, X_scaled, Y, cv=5, scoring='neg_mean_absolute_error')\n",
    "\n",
    "# Output results\n",
    "print(\"Cross-Validation MAEs:\", -scores)\n",
    "print(\"Mean CV MAE:\", -scores.mean())"
   ]
  },
  {
   "cell_type": "code",
   "execution_count": 47,
   "id": "b1b93fd4-ddf6-423c-8d44-e4e875255aea",
   "metadata": {},
   "outputs": [
    {
     "data": {
      "text/plain": [
       "['models/input_scaler.pkl']"
      ]
     },
     "execution_count": 47,
     "metadata": {},
     "output_type": "execute_result"
    }
   ],
   "source": [
    "# Save the trained GPR model\n",
    "joblib.dump(best_model, \"models/best_gpr_model.pkl\")\n",
    "\n",
    "# Also save the scaler used to normalize inputs\n",
    "joblib.dump(scaler, \"models/input_scaler.pkl\")"
   ]
  },
  {
   "cell_type": "markdown",
   "id": "50a31591-e3e9-46cd-86d1-7df8881deea1",
   "metadata": {},
   "source": [
    "# Neural Network"
   ]
  },
  {
   "cell_type": "code",
   "execution_count": 2,
   "id": "3f175c06-7acc-4fe6-a7a8-05d3faee0aec",
   "metadata": {},
   "outputs": [],
   "source": [
    "from sklearn.model_selection import train_test_split\n",
    "from sklearn.preprocessing import StandardScaler\n",
    "from tensorflow.keras.models import Sequential\n",
    "from tensorflow.keras.layers import Dense\n",
    "from tensorflow.keras.callbacks import EarlyStopping\n",
    "from sklearn.metrics import mean_absolute_percentage_error"
   ]
  },
  {
   "cell_type": "code",
   "execution_count": null,
   "id": "3da2be56-db00-4341-86a5-87ca55a97d51",
   "metadata": {},
   "outputs": [],
   "source": [
    "# Load your dataset\n",
    "df = pd.read_csv('simulation_results.csv')  # or wherever your 1100-sample data is\n",
    "\n",
    "# Inputs and outputs\n",
    "X = df[['W1', 'W2', 'R', 't']].values\n",
    "y = df['sigma_max'].values.reshape(-1, 1)\n",
    "\n",
    "# Train/val/test split\n",
    "X_train, X_temp, y_train, y_temp = train_test_split(X, y, test_size=0.3, random_state=42)\n",
    "X_val, X_test, y_val, y_test = train_test_split(X_temp, y_temp, test_size=0.5, random_state=42)\n",
    "\n",
    "# Standardize input and output\n",
    "input_scaler = StandardScaler()\n",
    "output_scaler = StandardScaler()\n",
    "\n",
    "X_train_scaled = input_scaler.fit_transform(X_train)\n",
    "X_val_scaled = input_scaler.transform(X_val)\n",
    "X_test_scaled = input_scaler.transform(X_test)\n",
    "\n",
    "y_train_scaled = output_scaler.fit_transform(y_train)\n",
    "y_val_scaled = output_scaler.transform(y_val)\n",
    "y_test_scaled = output_scaler.transform(y_test)\n",
    "\n",
    "# Build the neural network\n",
    "model = Sequential([\n",
    "    Dense(32, activation='relu', input_shape=(4,)),  # hidden layer 1\n",
    "    Dense(16, activation='relu'),                    # hidden layer 2\n",
    "    Dense(1)                                         # output layer\n",
    "])\n",
    "\n",
    "model.compile(optimizer='adam', loss='mse')\n",
    "\n",
    "# Early stopping\n",
    "early_stop = EarlyStopping(monitor='val_loss', patience=10, restore_best_weights=True)\n",
    "\n",
    "# Train\n",
    "history = model.fit(\n",
    "    X_train_scaled, y_train_scaled,\n",
    "    validation_data=(X_val_scaled, y_val_scaled),\n",
    "    epochs=200,\n",
    "    batch_size=32,\n",
    "    callbacks=[early_stop],\n",
    "    verbose=1\n",
    ")\n",
    "\n",
    "# Predict on test set\n",
    "y_pred_scaled = model.predict(X_test_scaled)\n",
    "y_pred = output_scaler.inverse_transform(y_pred_scaled)\n",
    "\n",
    "# Evaluate\n",
    "mape = mean_absolute_percentage_error(y_test, y_pred) * 100\n",
    "print(f\"Test MAPE: {mape:.2f}%\")"
   ]
  }
 ],
 "metadata": {
  "kernelspec": {
   "display_name": "Python 3 (ipykernel)",
   "language": "python",
   "name": "python3"
  },
  "language_info": {
   "codemirror_mode": {
    "name": "ipython",
    "version": 3
   },
   "file_extension": ".py",
   "mimetype": "text/x-python",
   "name": "python",
   "nbconvert_exporter": "python",
   "pygments_lexer": "ipython3",
   "version": "3.12.7"
  }
 },
 "nbformat": 4,
 "nbformat_minor": 5
}
