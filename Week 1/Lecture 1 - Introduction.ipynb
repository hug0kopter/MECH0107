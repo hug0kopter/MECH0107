{
 "cells": [
  {
   "cell_type": "markdown",
   "id": "7b70c856",
   "metadata": {},
   "source": [
    "<a href=\"https://colab.research.google.com/drive/1VZ8Ut29ifDkfsDOa6D4gRSiIXGOOLciF\" target=\"_parent\"><img src=\"https://colab.research.google.com/assets/colab-badge.svg\" alt=\"Open In Colab\"/></a>"
   ]
  },
  {
   "cell_type": "markdown",
   "id": "5ccff256",
   "metadata": {},
   "source": [
    "\n",
    "<h1><center> Basics of Linear Algebra </center></h1>\n",
    "\n",
    "Linear algebra is the branch of mathematics that focuses on linear equations. It is often applied to the science and engineering fields, specifically machine learning. Linear algebra is also central to almost all areas of mathematics like geometry and functional analysis. The concepts of linear algebra are crucial for understanding the theory behind machine learning, especially deep learning. They give you better intuition for how algorithms work under the hood, which enables you to make better decisions. \n",
    "\n",
    "In linear algebra, data is represented by linear equations, which are presented in the form of matrices and vectors. Therefore, you are mostly dealing with matrices and vectors rather than with scalars. \n",
    "\n",
    "In the following, we will go through the main basic concepts of linear algebra that will repeatedly appear throughout the topics of this module. \n",
    "\n",
    "### Table of Contents \n",
    "\n",
    "1. [Vectors](#section1)\n",
    "    1. [Magnitude of a Vector](#section_1_1)\n",
    "   \n",
    "    2. [Dot Product](#section_1_2)\n",
    "\n",
    "    3. [Cross Product](#section_1_3)\n",
    "\n",
    "    4. [Vector Norms](#section_1_4)\n",
    "\n",
    "1. [Matrices](#section2) \n",
    "\n",
    "    1. [Matrices Operations](#section_2_1) \n",
    "\n",
    "    3. [Eigen-Decomposition](#section_2_2)\n",
    "\n",
    "1. [Tensors](#section3) \n",
    "\n",
    "1. [System of Linear Equations](#section4)\n",
    "\n",
    "    1. [Solving a System of Lienar Equations](#section_4_1) \n",
    "\n",
    "*******************************************************************************************"
   ]
  },
  {
   "cell_type": "markdown",
   "id": "4c7cffea",
   "metadata": {},
   "source": [
    "## $\\color{Blue}{\\text{Vectors}}$ <a class=\"anchor\" id=\"section1\"></a>"
   ]
  },
  {
   "cell_type": "code",
   "execution_count": 4,
   "id": "25d3e77d",
   "metadata": {},
   "outputs": [],
   "source": [
    "#import necessary libraries\n",
    "import numpy as np\n",
    "import matplotlib.pyplot as plt"
   ]
  },
  {
   "cell_type": "code",
   "execution_count": 5,
   "id": "266ca4cd",
   "metadata": {},
   "outputs": [
    {
     "name": "stdout",
     "output_type": "stream",
     "text": [
      "3\n",
      "(3,)\n",
      "25\n"
     ]
    }
   ],
   "source": [
    "#create a vector\n",
    "x = np.array([25, 2, 5])\n",
    "\n",
    "#display the length of the vector\n",
    "print(len(x))\n",
    "\n",
    "#display the shape of the vector\n",
    "print(x.shape)\n",
    "\n",
    "#select certain elements \n",
    "print(x[0]) #zero-indexed"
   ]
  },
  {
   "cell_type": "markdown",
   "id": "a977c60e",
   "metadata": {},
   "source": [
    "### Magnitude of a Vector <a id=\"section_1_1\"></a>\n",
    "\n",
    "The magnitude of vector ${\\bf{A}}=(A_x,A_y,A_z)$ is calculated as follows:\n",
    "\n",
    "$$\n",
    "||{\\bf{A}}|| = \\sqrt{A_x^2+A_y^2+A_z^2}\n",
    "$$\n",
    "\n",
    "<img src=\"Vectors.png\" style=\"width: 700px;\"/>"
   ]
  },
  {
   "cell_type": "code",
   "execution_count": 6,
   "id": "9051c77d",
   "metadata": {},
   "outputs": [
    {
     "name": "stdout",
     "output_type": "stream",
     "text": [
      "25.573423705088842\n",
      "25.573423705088842\n"
     ]
    }
   ],
   "source": [
    "#method 1\n",
    "mag1 = np.linalg.norm(x)\n",
    "\n",
    "#method 2\n",
    "mag2 = np.sqrt(x[0]**2+x[1]**2+x[2]**2)\n",
    "\n",
    "print(mag1)\n",
    "print(mag2)"
   ]
  },
  {
   "cell_type": "markdown",
   "id": "07ed4ce3",
   "metadata": {},
   "source": [
    "### Dot Product <a id=\"section_1_2\"></a>\n",
    "\n",
    "The dot product of vectors ${\\bf{A}}=(A_x,A_y,A_z)$ and ${\\bf{B}}=(B_x,B_y,B_z)$ with an angle $\\theta$ between them is calculated as follows:\n",
    "\n",
    "$$\n",
    "{\\bf{A}} \\cdot {\\bf{B}} = ||{\\bf{A}}|| \\cdot ||{\\bf{B}}|| \\cdot \\cos{\\theta}\n",
    "$$\n",
    "\n",
    "The dot product can also be evaluated using the components of each vector, i.e., \n",
    "\n",
    "$$\n",
    "{\\bf{A}} \\cdot {\\bf{B}} = A_x \\cdot B_x + A_y \\cdot B_y +A_z \\cdot B_z\n",
    "$$\n",
    "\n",
    "Both Methods are equivalent.\n",
    "\n",
    "<img src=\"DotProductTypes.png\" style=\"width: 700px;\"/>"
   ]
  },
  {
   "cell_type": "code",
   "execution_count": 7,
   "id": "1cfe2bd1",
   "metadata": {},
   "outputs": [
    {
     "name": "stdout",
     "output_type": "stream",
     "text": [
      "135\n",
      "135\n"
     ]
    }
   ],
   "source": [
    "#create a second vector\n",
    "y = np.array([2, 10, 13])\n",
    "\n",
    "#calculate the dot product of x and y\n",
    "#method 1\n",
    "dot1 = np.dot(x, y)\n",
    "\n",
    "#method 2\n",
    "dot2 = x[0]*y[0]+x[1]*y[1]+x[2]*y[2]\n",
    "\n",
    "print(dot1) \n",
    "print(dot2) "
   ]
  },
  {
   "cell_type": "code",
   "execution_count": 8,
   "id": "eeb6df49",
   "metadata": {},
   "outputs": [
    {
     "name": "stdout",
     "output_type": "stream",
     "text": [
      "0\n"
     ]
    }
   ],
   "source": [
    "#orthogonal vectors\n",
    "#remember that if dot = 0, then x and y are orthogonal vectors and the angle between them is 90\n",
    "#vector 1\n",
    "i = np.array([1, 0])\n",
    "#vector 2\n",
    "j = np.array([0, 1])\n",
    "#calculate the dot product\n",
    "dot_ij = np.dot(i, j)\n",
    "print(dot_ij)"
   ]
  },
  {
   "cell_type": "markdown",
   "id": "8f2d1186",
   "metadata": {},
   "source": [
    "### Cross Product <a id=\"section_1_3\"></a>\n",
    "\n",
    "The cross product of vectors ${\\bf{A}}=(A_x,A_y,A_z)$ and ${\\bf{B}}=(B_x,B_y,B_z)$ with an angle $\\theta$ between them is calculated as follows:\n",
    "\n",
    "$$\n",
    "{\\bf{C}} = {\\bf{A}} \\times {\\bf{B}} = ||{\\bf{A}}|| ||{\\bf{B}}|| \\cdot \\sin{\\theta} \\hat{n}\n",
    "$$\n",
    "\n",
    "The cross product can also be evaluated using the components of each vector, i.e., \n",
    "\n",
    "\\begin{align}\n",
    "{\\bf{C}} = {\\bf{A}} \\times {\\bf{B}} = & \n",
    "\\begin{vmatrix}\n",
    "\\hat{i} & \\hat{j} & \\hat{k}  \\\\ \n",
    "A_x & A_y & A_z \\\\\n",
    "B_x & B_y & B_z\n",
    "\\end{vmatrix} =\n",
    "\\begin{vmatrix}\n",
    "A_y & A_z \\\\\n",
    "B_y & B_z\n",
    "\\end{vmatrix} \\hat{i} - \n",
    "\\begin{vmatrix}\n",
    "A_x & A_z \\\\\n",
    "B_x & B_z\n",
    "\\end{vmatrix} \\hat{j} +\n",
    "\\begin{vmatrix}\n",
    "A_x & A_y \\\\\n",
    "B_x & B_y\n",
    "\\end{vmatrix} \\hat{k} \n",
    "\\label{CrossProductMethod2}\n",
    "\\end{align}\n",
    "\n",
    "Both Methods are equivalent.\n",
    "\n",
    "<img src=\"CrossProduct.png\" style=\"width: 400px;\"/>\n"
   ]
  },
  {
   "cell_type": "code",
   "execution_count": 9,
   "id": "17bb2023",
   "metadata": {},
   "outputs": [
    {
     "name": "stdout",
     "output_type": "stream",
     "text": [
      "[ -24 -315  246]\n"
     ]
    }
   ],
   "source": [
    "#calculate the cross prodcut of x and y\n",
    "cross = np.cross(x,y)\n",
    "print(cross) #rememebr that if cross=0, then x and y are parallel to each other and the angle between them is 0"
   ]
  },
  {
   "cell_type": "markdown",
   "id": "bc95877e",
   "metadata": {},
   "source": [
    "### Vector Norms <a id=\"section_1_4\"></a>\n",
    "Vector Norms are defined as a set of functions that take a vector as an input and output a positive value against it. All norm functions originate from a standard equation of Norm, known as the p-norm. We obtain a different norm function for different values of the parameter $p$ ($p$ should be a real number greater than or equal to $1$). The generalized equation, however, is shown below:\n",
    "\n",
    "\\begin{equation}\n",
    "\\underbrace{\\parallel{\\bf{x}}\\parallel_p}_{\\text{$p$-Norm}} = \\left(\\sum_i^n |{\\bf{x}}_i|^p\\right)^{\\frac{1}{p}}=\\left(|{\\bf{x}}_1|^p+|{\\bf{x}}_2|^p+ \\cdots + |{\\bf{x}}_n|^p\\right)^{\\frac{1}{p}}\n",
    "    \\label{pNormEquation}\n",
    "\\end{equation}\n",
    "\n",
    "This takes an $n$-dimensional vector ${\\bf{x}}$ and raises each element to its $p$-th power. Then, we sum all the obtained elements and take the $p$-th root to get the $p$-norm of the vector, also known as its magnitude. Now, with different values of the parameter $p$, we will obtain a different norm function. "
   ]
  },
  {
   "cell_type": "markdown",
   "id": "96fa2e4d",
   "metadata": {},
   "source": [
    "#### L0 Norm\n",
    "The L0 nrom returns the number of non-zero elements in the given vector."
   ]
  },
  {
   "cell_type": "code",
   "execution_count": 10,
   "id": "b4d40ff9",
   "metadata": {},
   "outputs": [
    {
     "name": "stdout",
     "output_type": "stream",
     "text": [
      "[1 2 3]\n",
      "3.0\n"
     ]
    }
   ],
   "source": [
    "#define a vector\n",
    "a = np.array([1, 2, 3])\n",
    "#show it\n",
    "print(a)\n",
    "\n",
    "#count the number of the nonzero elements in the vector to compute the L0 norm\n",
    "L0norm = np.linalg.norm(a, 0) #or L0norm = sum(~np.isnan(a))\n",
    "#show it\n",
    "print(L0norm)"
   ]
  },
  {
   "cell_type": "markdown",
   "id": "9ce67412",
   "metadata": {},
   "source": [
    "#### L1 Norm\n",
    "\n",
    "\\begin{equation}\n",
    "\\underbrace{\\parallel{\\bf{x}}\\parallel_1}_{\\text{$L1$-Norm}} = \\left(\\sum_i^n |{\\bf{x}}_i|\\right)=\\left(|{\\bf{x}}_1|+|{\\bf{x}}_2|+ \\cdots + |{\\bf{x}}_n|\\right)\n",
    "    \\label{L1Norm}\n",
    "\\end{equation}"
   ]
  },
  {
   "cell_type": "code",
   "execution_count": 11,
   "id": "ac0942d6",
   "metadata": {},
   "outputs": [
    {
     "name": "stdout",
     "output_type": "stream",
     "text": [
      "[1 2 3]\n",
      "6.0\n"
     ]
    }
   ],
   "source": [
    "#define a vector\n",
    "a = np.array([1, 2, 3])\n",
    "#show it\n",
    "print(a)\n",
    "\n",
    "#compute the L1 norm\n",
    "l1norm = np.linalg.norm(a, 1)\n",
    "#show it\n",
    "print(l1norm)\n"
   ]
  },
  {
   "cell_type": "markdown",
   "id": "f7fcbe42",
   "metadata": {},
   "source": [
    "#### L2 Norm\n",
    "\n",
    "\\begin{equation}\n",
    "\\underbrace{\\parallel{\\bf{x}}\\parallel_2}_{\\text{$L2$-Norm}} = \\left(\\sum_i^n |{\\bf{x}}_i|^2\\right)^{\\frac{1}{2}}=\\left(|{\\bf{x}}_1|^2+|{\\bf{x}}_2|^2+ \\cdots + |{\\bf{x}}_n|^2\\right)^{\\frac{1}{2}}\n",
    "    \\label{L2Norm}\n",
    "\\end{equation}"
   ]
  },
  {
   "cell_type": "code",
   "execution_count": 12,
   "id": "9c4efcc2",
   "metadata": {},
   "outputs": [
    {
     "name": "stdout",
     "output_type": "stream",
     "text": [
      "[1 2 3]\n",
      "3.7416573867739413\n"
     ]
    }
   ],
   "source": [
    "#define a vector\n",
    "a = np.array([1, 2, 3])\n",
    "#show it\n",
    "print(a)\n",
    "\n",
    "#compute the L1 norm\n",
    "l2norm = np.linalg.norm(a, 2) #or l2 = np.linalg.norm(a)\n",
    "#show it\n",
    "print(l2norm)"
   ]
  },
  {
   "cell_type": "markdown",
   "id": "4b4501fd",
   "metadata": {},
   "source": [
    "#### Squared L2 Norm\n",
    "\n",
    "\\begin{equation}\n",
    "\\underbrace{\\parallel{\\bf{x}}\\parallel_2^2}_{\\text{Squared $L2$-Norm}} = \\left(\\sum_i^n |{\\bf{x}}_i|^2\\right)=\\left(|{\\bf{x}}_1|^2+|{\\bf{x}}_2|^2+ \\cdots + |{\\bf{x}}_n|^2\\right)\n",
    "    \\label{SquaredL2Norm}\n",
    "\\end{equation}"
   ]
  },
  {
   "cell_type": "code",
   "execution_count": 13,
   "id": "e12283d5",
   "metadata": {},
   "outputs": [
    {
     "name": "stdout",
     "output_type": "stream",
     "text": [
      "[1 2 3]\n",
      "14.0\n"
     ]
    }
   ],
   "source": [
    "#define a vector\n",
    "a = np.array([1, 2, 3])\n",
    "#show it\n",
    "print(a)\n",
    "\n",
    "#compute the squared L2 norm\n",
    "Squaredl2norm = np.linalg.norm(a, 2)**2 #or l2 = np.linalg.norm(a)**2\n",
    "#show it\n",
    "print(Squaredl2norm)"
   ]
  },
  {
   "cell_type": "markdown",
   "id": "ea393976",
   "metadata": {},
   "source": [
    "#### Max Norm\n",
    "The max norm returns the absolute value of the largest magnitude element."
   ]
  },
  {
   "cell_type": "code",
   "execution_count": 14,
   "id": "c9f4ab0d",
   "metadata": {},
   "outputs": [
    {
     "name": "stdout",
     "output_type": "stream",
     "text": [
      "[1 2 3]\n",
      "3.0\n"
     ]
    }
   ],
   "source": [
    "#define a vector\n",
    "a = np.array([1, 2, 3])\n",
    "#show it\n",
    "print(a)\n",
    "\n",
    "#compute the max norm\n",
    "maxnorm = np.linalg.norm(a, np.inf)\n",
    "#show it\n",
    "print(maxnorm)"
   ]
  },
  {
   "cell_type": "markdown",
   "id": "5d31b842",
   "metadata": {},
   "source": [
    "********************************************************************************"
   ]
  },
  {
   "cell_type": "markdown",
   "id": "cbb56d56",
   "metadata": {},
   "source": [
    "## $\\color{Blue}{\\text {Matrices}}$ <a class=\"anchor\" id=\"section2\"></a>\n"
   ]
  },
  {
   "cell_type": "code",
   "execution_count": 15,
   "id": "2041b001",
   "metadata": {},
   "outputs": [
    {
     "name": "stdout",
     "output_type": "stream",
     "text": [
      "Matrix X is [[25  2]\n",
      " [ 5 26]\n",
      " [ 3  7]]\n",
      "The shape of the matrix X is  (3, 2)\n",
      "The size of the matrix X is  6\n",
      "Th left column of matrix X is  [25  5  3]\n",
      "The middle row of matrix X is  [ 5 26]\n",
      "Slicing the first two columns and rows of matrix X  [[25  2]\n",
      " [ 5 26]]\n"
     ]
    }
   ],
   "source": [
    "# Use array() with nested brackets:\n",
    "X = np.array([[25, 2], [5, 26], [3, 7]])\n",
    "print('Matrix X is', X)\n",
    "\n",
    "#show the shape of the matrix\n",
    "print('The shape of the matrix X is ',X.shape)\n",
    "\n",
    "#show the size of the matrix\n",
    "print('The size of the matrix X is ',X.size)\n",
    "\n",
    "# Select left column of matrix X (zero-indexed)\n",
    "print('Th left column of matrix X is ',X[:,0])\n",
    "\n",
    "# Select middle row of matrix X:\n",
    "print('The middle row of matrix X is ',X[1,:])\n",
    "\n",
    "# Another slicing-by-index example:\n",
    "print('Slicing the first two columns and rows of matrix X ', X[0:2, 0:2])"
   ]
  },
  {
   "cell_type": "markdown",
   "id": "fd602396",
   "metadata": {},
   "source": [
    "### Matrices Operations <a id=\"section_2_1\"></a>"
   ]
  },
  {
   "cell_type": "code",
   "execution_count": 16,
   "id": "18ca373c",
   "metadata": {},
   "outputs": [
    {
     "name": "stdout",
     "output_type": "stream",
     "text": [
      "A+B = [[ 4 13]\n",
      " [ 7  6]]\n",
      "A-B = [[ 2 -5]\n",
      " [ 3  6]]\n",
      "AxB = [[11 27]\n",
      " [17 45]]\n",
      "Transpose(A) = [[3 5]\n",
      " [4 6]]\n",
      "Transpose(B) = [[1 2]\n",
      " [9 0]]\n",
      "det(A) =  -1.9999999999999971\n",
      "det(B) =  -18.000000000000004\n",
      "Inverse of (A) =  [[-3.   2. ]\n",
      " [ 2.5 -1.5]]\n",
      "Inverse of (B) =  [[ 0.          0.5       ]\n",
      " [ 0.11111111 -0.05555556]]\n"
     ]
    }
   ],
   "source": [
    "#Matrix A\n",
    "A = np.array([[3, 4], [5, 6]])\n",
    "\n",
    "#Matrix B\n",
    "B = np.array([[1, 9], [2, 0]])\n",
    "\n",
    "#Addition of A & B\n",
    "print('A+B =',A+B)\n",
    "\n",
    "#Subtraction of A from B\n",
    "print('A-B =',A-B)\n",
    "\n",
    "#Multiplication of A & B\n",
    "print('AxB =',np.dot(A, B))\n",
    "\n",
    "#Transpose of A \n",
    "print('Transpose(A) =',A.T)\n",
    "#Transpose of B\n",
    "print('Transpose(B) =',B.T)\n",
    "\n",
    "#Determinant of A\n",
    "print('det(A) = ',np.linalg.det(A))\n",
    "#Determinant of B\n",
    "print('det(B) = ',np.linalg.det(B))\n",
    "\n",
    "#Inverse of A\n",
    "print('Inverse of (A) = ',np.linalg.inv(A))\n",
    "#Inverse of B\n",
    "print('Inverse of (B) = ',np.linalg.inv(B))\n"
   ]
  },
  {
   "cell_type": "markdown",
   "id": "2399616f",
   "metadata": {},
   "source": [
    "### Eigen-Decomposition <a id=\"section_2_2\"></a>"
   ]
  },
  {
   "cell_type": "code",
   "execution_count": 17,
   "id": "10b3a7d0",
   "metadata": {},
   "outputs": [
    {
     "name": "stdout",
     "output_type": "stream",
     "text": [
      "Eigenvalues of A are:  [-0.21699057  9.21699057]\n",
      "Eigenvectors of A are:  [[-0.77925158 -0.54107946]\n",
      " [ 0.62671124 -0.84097147]]\n"
     ]
    }
   ],
   "source": [
    "#Matrix A\n",
    "A = np.array([[3, 4], [5, 6]])\n",
    "\n",
    "#Compute the eigenvalues and eigenvectors of matrix A\n",
    "E_values,E_vectors = np.linalg.eig(A)\n",
    "#show the eigendecomposition of A\n",
    "print('Eigenvalues of A are: ', E_values)\n",
    "print('Eigenvectors of A are: ',E_vectors)"
   ]
  },
  {
   "cell_type": "markdown",
   "id": "e8b89037",
   "metadata": {},
   "source": [
    "********************************************************************************"
   ]
  },
  {
   "cell_type": "markdown",
   "id": "35d5498e",
   "metadata": {},
   "source": [
    "## $\\color{Blue} {\\text{Tensors}}$ <a class=\"anchor\" id=\"section3\"></a>"
   ]
  },
  {
   "cell_type": "code",
   "execution_count": 18,
   "id": "06cffdd7",
   "metadata": {},
   "outputs": [
    {
     "name": "stdout",
     "output_type": "stream",
     "text": [
      "(3, 3, 3)\n",
      "[[[ 1  2  3]\n",
      "  [ 4  5  6]\n",
      "  [ 7  8  9]]\n",
      "\n",
      " [[11 12 13]\n",
      "  [14 15 16]\n",
      "  [17 18 19]]\n",
      "\n",
      " [[21 22 23]\n",
      "  [24 25 26]\n",
      "  [27 28 29]]]\n"
     ]
    }
   ],
   "source": [
    "#Create a tensor using numpy library\n",
    "T = np.array([\n",
    "  [[1,2,3],    [4,5,6],    [7,8,9]],\n",
    "  [[11,12,13], [14,15,16], [17,18,19]],\n",
    "  [[21,22,23], [24,25,26], [27,28,29]],\n",
    "  ])\n",
    "print(T.shape)\n",
    "print(T)\n"
   ]
  },
  {
   "cell_type": "code",
   "execution_count": 19,
   "id": "99f68533",
   "metadata": {},
   "outputs": [
    {
     "name": "stdout",
     "output_type": "stream",
     "text": [
      "T1+T2 =  [[[ 2  4  6]\n",
      "  [ 8 10 12]\n",
      "  [14 16 18]]\n",
      "\n",
      " [[22 24 26]\n",
      "  [28 30 32]\n",
      "  [34 36 38]]\n",
      "\n",
      " [[42 44 46]\n",
      "  [48 50 52]\n",
      "  [54 56 58]]]\n",
      "T1-T2 =  [[[0 0 0]\n",
      "  [0 0 0]\n",
      "  [0 0 0]]\n",
      "\n",
      " [[0 0 0]\n",
      "  [0 0 0]\n",
      "  [0 0 0]]\n",
      "\n",
      " [[0 0 0]\n",
      "  [0 0 0]\n",
      "  [0 0 0]]]\n"
     ]
    },
    {
     "ename": "NameError",
     "evalue": "name 'TenMult' is not defined",
     "output_type": "error",
     "traceback": [
      "\u001b[0;31m---------------------------------------------------------------------------\u001b[0m",
      "\u001b[0;31mNameError\u001b[0m                                 Traceback (most recent call last)",
      "Cell \u001b[0;32mIn[19], line 23\u001b[0m\n\u001b[1;32m     21\u001b[0m \u001b[38;5;66;03m#Tensors Multiplication\u001b[39;00m\n\u001b[1;32m     22\u001b[0m TenMult1 \u001b[38;5;241m=\u001b[39m T1 \u001b[38;5;241m*\u001b[39m T2\n\u001b[0;32m---> 23\u001b[0m \u001b[38;5;28mprint\u001b[39m(\u001b[38;5;124m'\u001b[39m\u001b[38;5;124mT1*T2 = \u001b[39m\u001b[38;5;124m'\u001b[39m, TenMult)\n",
      "\u001b[0;31mNameError\u001b[0m: name 'TenMult' is not defined"
     ]
    }
   ],
   "source": [
    "#Define two tensors\n",
    "T1 = np.array([\n",
    "  [[1,2,3],    [4,5,6],    [7,8,9]],\n",
    "  [[11,12,13], [14,15,16], [17,18,19]],\n",
    "  [[21,22,23], [24,25,26], [27,28,29]],\n",
    "  ])\n",
    "T2 = np.array([\n",
    "  [[1,2,3],    [4,5,6],    [7,8,9]],\n",
    "  [[11,12,13], [14,15,16], [17,18,19]],\n",
    "  [[21,22,23], [24,25,26], [27,28,29]],\n",
    "  ])\n",
    "\n",
    "#Tensors addition\n",
    "TenAdd = T1 + T2\n",
    "print('T1+T2 = ', TenAdd)\n",
    "\n",
    "#Tensors subtraction\n",
    "TenSub = T1 - T2\n",
    "print('T1-T2 = ', TenSub)\n",
    "\n",
    "#Tensors Multiplication\n",
    "TenMult1 = T1 * T2\n",
    "print('T1*T2 = ', TenMult)"
   ]
  },
  {
   "cell_type": "code",
   "execution_count": null,
   "id": "58451650",
   "metadata": {},
   "outputs": [],
   "source": [
    "#check the type of tensors created using Numpy library\n",
    "type(T1), type(T2)"
   ]
  },
  {
   "cell_type": "code",
   "execution_count": null,
   "id": "eac3e8be",
   "metadata": {},
   "outputs": [],
   "source": [
    "# There are two libraries that can be used to convert the type of the previously defined tensors from being arrays to tensors.\n",
    "# They are: Tensorflow and Pytorch. They convert NumPy arrays to tensors, and vice versa.\n",
    "\n",
    "#PyTorch is ideal for research and small-scale projects prioritizing flexibility, experimentation and quick editing capabilities for models. \n",
    "#TensorFlow is ideal for large-scale projects and production environments that require high-performance and scalable models.\n",
    "#Here we will be using PyTorch.\n",
    "\n",
    "#Pytorch\n",
    "#-------\n",
    "# Import the Pytorch library\n",
    "import torch\n",
    "#If you need to install it: Go to Anaconda Navigator -> Environments -> Base (root) -> select 'Not installed' ->\n",
    "#look for Pytorch -> install\n",
    "\n",
    "# Create a Numpy array\n",
    "T1array = np.array([\n",
    "  [[1,2,3],    [4,5,6],    [7,8,9]],\n",
    "  [[11,12,13], [14,15,16], [17,18,19]],\n",
    "  [[21,22,23], [24,25,26], [27,28,29]],\n",
    "  ])\n",
    "\n",
    "# Convert Numpy array to Tensor using torch.tensor()\n",
    "T1tensor = torch.tensor(T1array)\n",
    "\n",
    "# Print the original Numpy array and the resulting Tensor\n",
    "print(\"Numpy array:\", T1array, type(T1array))\n",
    "print(\"Tensor:\", T1tensor, type(T1tensor))\n",
    "\n",
    "#Add two tensors in Pytorch\n",
    "T1addTen = torch.add(T1tensor, T1tensor)\n",
    "print(\"Additoon of two tensors:\", T1addTen)\n",
    "#subtract two tensors in Pytorch\n",
    "T1subTen = torch.sub(T1tensor, T1tensor)\n",
    "print(\"Subtraction of two tensors:\", T1subTen)"
   ]
  },
  {
   "cell_type": "markdown",
   "id": "8ec57ea1",
   "metadata": {},
   "source": [
    "********************************************************************************"
   ]
  },
  {
   "cell_type": "markdown",
   "id": "a7cfb29e",
   "metadata": {},
   "source": [
    "## $\\color{Blue} {\\text{System of Linear Equations}}$ <a class=\"anchor\" id=\"section4\"></a>\n",
    "\n",
    "A linear equation is an algebraic equation that contains variables (or unknowns) that have an exponent (raised to a power) that is no higher than one. It is also known as a one-degree equation. A linear system of equations is a set of $n$ linear equations in $m$ variables:\n",
    "\n",
    "\\begin{align*}\n",
    "    & a_{11} x_1 + a_{12} x_2 + \\cdots + a_{1n} x_n = b_1 \\\\\n",
    "    & a_{21} x_1 + a_{22} x_2 + \\cdots + a_{2n} x_n = b_1 \\\\\n",
    "    & \\vdots \\\\\n",
    "    &a_{n1} x_1 + a_{n2} x_2 + \\cdots + a_{nn} x_n = b_n\n",
    "\\end{align*}\n",
    "\n",
    "This Linear system can be represented in a matrix format as follows:\n",
    "\n",
    "\\begin{equation}\n",
    "    {\\bf{A}}{\\bf{x}}={\\bf{b}}\\quad \\Longrightarrow \\quad\n",
    "    \\begin{bmatrix}\n",
    "        a_{11} & a_{12} & \\cdots & a_{1n} \\\\\n",
    "        a_{21} & a_{22} & \\cdots & a_{2n} \\\\\n",
    "        \\vdots & \\vdots & \\ddots & \\vdots      \\\\\n",
    "        a_{n1} & a_{n2} & \\cdots & a_{nn} \n",
    "    \\end{bmatrix} \n",
    "    \\begin{bmatrix}\n",
    "        x_1 \\\\\n",
    "        x_2 \\\\\n",
    "        \\vdots \\\\\n",
    "        x_n\n",
    "    \\end{bmatrix} = \n",
    "    \\begin{bmatrix}\n",
    "        b_1 \\\\\n",
    "        b_2 \\\\\n",
    "        \\vdots \\\\\n",
    "        b_n\n",
    "    \\end{bmatrix}\n",
    "    \\label{LinearEquationsMatrixFormula}\n",
    "\\end{equation}\n",
    "\n",
    "where ${\\bf{A}}$ is the matrix of coefficients, ${\\bf{x}}$ is the column vector of variables (unknowns), and ${\\bf{b}}$ is the column vector of constants."
   ]
  },
  {
   "cell_type": "markdown",
   "id": "33a07a80",
   "metadata": {},
   "source": [
    "### Solving of System of Linear Equations <a id=\"section_4_1\"></a>"
   ]
  },
  {
   "cell_type": "markdown",
   "id": "23f0248b",
   "metadata": {},
   "source": [
    "#### Matrix Inversion"
   ]
  },
  {
   "cell_type": "code",
   "execution_count": null,
   "id": "e60fef55",
   "metadata": {},
   "outputs": [],
   "source": [
    "#Matrix inversion\n",
    "\n",
    "#Define A matrix\n",
    "A = np.array([[1 , 2 , 4 ],[3 , 8 , 14],[2 , 6 , 13]])\n",
    "\n",
    "#define the righ-hand side vector\n",
    "b = np.array([1, 2, 3])\n",
    "\n",
    "#Take the inverse\n",
    "A_inv = np.linalg.inv(A)\n",
    "\n",
    "#solve the system\n",
    "x = np.dot(U_inv,Y) #method 1\n",
    "#x = A_inv @ b #method 2\n",
    "print('the solution of the linear system of equations is x=:' , x)"
   ]
  },
  {
   "cell_type": "markdown",
   "id": "c70d699a",
   "metadata": {},
   "source": [
    "#### LU Decomponsition"
   ]
  },
  {
   "cell_type": "code",
   "execution_count": null,
   "id": "c5129fb1",
   "metadata": {},
   "outputs": [],
   "source": [
    "#LU Decomponsition\n",
    "\n",
    "#import scipy. \n",
    "#SciPy is a free and open-source Python library used for scientific computing and technical computing. \n",
    "#SciPy contains modules for optimization, linear algebra, integration, interpolation, special functions, FFT, \n",
    "#signal and image processing, ODE solvers and other tasks common in science and engineering\n",
    "#The SciPy library also contains a linalg submodule, and there is overlap in the functionality provided by the \n",
    "#SciPy and NumPy submodules. SciPy contains functions not found in numpy.linalg, such as functions related to LU decomposition\n",
    "import scipy\n",
    "\n",
    "#Define A matrix\n",
    "A = np.array([[1 , 2 , 4 ],[3 , 8 , 14],[2 , 6 , 13]])\n",
    "\n",
    "#define the righ-hand side vector\n",
    "b = np.array([1, 2, 3])\n",
    "\n",
    "#LU decomponse matrix A\n",
    "P, L, U = scipy.linalg.lu(A)\n",
    "L = P@L #performing the permutation\n",
    "\n",
    "#solve this linear system \n",
    "#compute vector Y\n",
    "L_inv = np.linalg.inv(L)\n",
    "Y = np.dot(L_inv, b) #method 1\n",
    "#Y = L_inv @ b #method 2\n",
    "\n",
    "#compute x: the unknowns\n",
    "U_inv = np.linalg.inv(U)\n",
    "x = np.dot(U_inv,Y) #method 1\n",
    "#x = U_inv @ Y #method 2\n",
    "#OR: In a single line of code\n",
    "#x = U_inv @ (L_inv @ b)\n",
    "\n",
    "print('the solution of the linear system of equations is x=:' , x)"
   ]
  },
  {
   "cell_type": "markdown",
   "id": "4f5434f7",
   "metadata": {},
   "source": [
    "#### Jacobi Method"
   ]
  },
  {
   "cell_type": "code",
   "execution_count": null,
   "id": "3ada6827",
   "metadata": {},
   "outputs": [],
   "source": [
    "#Jacobi Method\n",
    "#import matplotlib to show the solution\n",
    "import matplotlib.pyplot as plt\n",
    "%matplotlib inline\n",
    "\n",
    "#Define initial guess for the three variables\n",
    "x0=13\n",
    "y0=-5\n",
    "z0=np.pi\n",
    "\n",
    "# Setting error to move into the while loop\n",
    "error=1\n",
    "\n",
    "# Setting up iteration counter\n",
    "count=0\n",
    "\n",
    "while error>1.E-5:\n",
    "    count+=1\n",
    "    \n",
    "    #Evaluating new values based on old guess\n",
    "    x = (7+y0-z0)/4\n",
    "    y = (21+4*x0+z0)/8\n",
    "    z = (15+2*x0-y0)/5\n",
    "    #plot the solution\n",
    "    plt.subplot(2,1,1)\n",
    "    plt.plot(count,x,'ro',count,y,'bo',count,z,'go') \n",
    "    plt.xlabel('Iterations')\n",
    "    plt.ylabel('Solution')\n",
    "    plt.legend(['x','y','z'], loc='upper right')\n",
    "    #plt.ylim((-5,15))\n",
    "        \n",
    "    # Error evaluation\n",
    "    error = abs(x-x0)+abs(y-y0)+abs(z-z0)\n",
    "    #plot the Error\n",
    "    plt.subplot(2,1,2)\n",
    "    plt.plot(count,error,'ko')\n",
    "    plt.xlabel('Iterations')\n",
    "    plt.ylabel('Error')\n",
    "\n",
    "    # Updating the Guess for next iteration.\n",
    "    x0=x\n",
    "    y0=y\n",
    "    z0=z\n",
    "           \n",
    "print(x,y,z)\n"
   ]
  },
  {
   "cell_type": "markdown",
   "id": "b01e71ec",
   "metadata": {},
   "source": [
    "#### Gauss-Seidel Method"
   ]
  },
  {
   "cell_type": "code",
   "execution_count": null,
   "id": "89af69bd",
   "metadata": {},
   "outputs": [],
   "source": [
    "#Gauss-Seide Method\n",
    "\n",
    "#Define initial guess for the three variables\n",
    "x0=13\n",
    "y0=-5\n",
    "z0=np.pi\n",
    "\n",
    "# Setting error to move into the while loop\n",
    "error=1\n",
    "\n",
    "# Setting up iteration counter\n",
    "count=0\n",
    "\n",
    "while error>1.E-5:\n",
    "    count+=1\n",
    "    \n",
    "    #Evaluating new values based on old guess\n",
    "    x = (7+y0-z0)/4\n",
    "    y = (21+4*x+z0)/8\n",
    "    z = (15+2*x-y)/5\n",
    "    #plot the solution\n",
    "    plt.subplot(2,1,1)\n",
    "    plt.plot(count,x,'ro',count,y,'bo',count,z,'go') \n",
    "    plt.xlabel('Iterations')\n",
    "    plt.ylabel('Solution')\n",
    "    plt.legend(['x','y','z'], loc='lower right')\n",
    "    #plt.ylim((-5,15))\n",
    "    \n",
    "    # Error evaluation\n",
    "    error = abs(x-x0)+abs(y-y0)+abs(z-z0)\n",
    "    #plot the Error\n",
    "    plt.subplot(2,1,2)\n",
    "    plt.plot(count,error,'ko')\n",
    "    plt.xlabel('Iterations')\n",
    "    plt.ylabel('Error')\n",
    "\n",
    "    # Updating the Guess for next iteration.\n",
    "    x0=x\n",
    "    y0=y\n",
    "    z0=z\n",
    "           \n",
    "print(x,y,z)"
   ]
  },
  {
   "cell_type": "markdown",
   "id": "01460476",
   "metadata": {},
   "source": [
    "#### Gradient Decent"
   ]
  },
  {
   "cell_type": "code",
   "execution_count": 20,
   "id": "5ed91fcb",
   "metadata": {},
   "outputs": [
    {
     "data": {
      "text/plain": [
       "(-9.4467500284542e-49, -9.446750028454214e-49)"
      ]
     },
     "execution_count": 20,
     "metadata": {},
     "output_type": "execute_result"
    },
    {
     "data": {
      "image/png": "[encoded data removed]",
      "text/plain": [
       "<Figure size 640x480 with 1 Axes>"
      ]
     },
     "metadata": {},
     "output_type": "display_data"
    }
   ],
   "source": [
    "#Gradient Decent\n",
    "\n",
    "#Define the xy dimesnions\n",
    "x = np.linspace(-4, 4, 100)\n",
    "y = np.linspace(-4, 4, 100)\n",
    "\n",
    "#build an xy mesh\n",
    "X, Y = np.meshgrid(x, y)\n",
    "\n",
    "#define the quadratic form of the Ax=b linear system of equation, i.e., the\n",
    "#surface that defines it. \n",
    "f = X**2+3*Y**2;\n",
    "\n",
    "#show the surface\n",
    "fig = plt.figure()\n",
    "ax = plt.axes(projection='3d')\n",
    "ax.plot_surface(X,Y,f,cmap='gray', alpha=0.7)\n",
    "\n",
    "#suggest random initial values for both variables\n",
    "x0 = -3\n",
    "y0 = -3\n",
    "\n",
    "#calculate the initial funciton, i.e., the point that corresponds to the\n",
    "#random initial point\n",
    "f0 = x0**2+3*y0**2\n",
    "\n",
    "#plot the first random point on the surface\n",
    "ax.scatter(x0,y0,f0, s=100, color='red')\n",
    "ax.set_xlabel('x', fontsize=12)\n",
    "ax.set_ylabel('y', fontsize=12)\n",
    "ax.set_zlabel('f(x,y)', fontsize=12)\n",
    "\n",
    "# Adjust the viewing perspective if needed\n",
    "ax.view_init(elev=35, azim=25)\n",
    "\n",
    "#iterate until the minimum of the surface is reached \n",
    "#or the convergence threshold is achieved.\n",
    "Num_steps = 100\n",
    "    \n",
    "for i in range(Num_steps):\n",
    "    #define the step size\n",
    "    tau = (x0**2+9*y0**2)/(2*x0**2+54*y0**2)\n",
    "    \n",
    "    #calculate future steps\n",
    "    xnew = (1-2*tau)*x0\n",
    "    ynew = (1-6*tau)*y0\n",
    "    fnew = xnew**2+3*ynew**2\n",
    "    \n",
    "    #show the iterated point on the 3D plot\n",
    "    ax.scatter(xnew,ynew,fnew, s=100, color='red')\n",
    "    \n",
    "    #update the x,y values for the next iteration\n",
    "    x0 = xnew\n",
    "    y0 = ynew\n",
    "    \n",
    "    #%if the tolerance between each points exit the iteration cycle.\n",
    "    if abs(fnew-f0)<1.E-8:\n",
    "        break\n",
    "    \n",
    "x0,y0 "
   ]
  },
  {
   "cell_type": "markdown",
   "id": "787567e5",
   "metadata": {},
   "source": [
    "********************************************************************************"
   ]
  },
  {
   "cell_type": "markdown",
   "id": "667a89d5",
   "metadata": {},
   "source": [
    "MATLAB® and NumPy have a lot in common, but NumPy was created to work with Python, not to be a MATLAB clone. This guide will help MATLAB users get started with NumPy.\n",
    "https://numpy.org/doc/stable/user/numpy-for-matlab-users.html"
   ]
  }
 ],
 "metadata": {
  "kernelspec": {
   "display_name": "Python 3 (ipykernel)",
   "language": "python",
   "name": "python3"
  },
  "language_info": {
   "codemirror_mode": {
    "name": "ipython",
    "version": 3
   },
   "file_extension": ".py",
   "mimetype": "text/x-python",
   "name": "python",
   "nbconvert_exporter": "python",
   "pygments_lexer": "ipython3",
   "version": "3.12.7"
  }
 },
 "nbformat": 4,
 "nbformat_minor": 5
}
