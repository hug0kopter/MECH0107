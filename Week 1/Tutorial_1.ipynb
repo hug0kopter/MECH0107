{
 "cells": [
  {
   "cell_type": "code",
   "execution_count": 24,
   "id": "1488e0cd-ed83-4812-899b-ae674742f987",
   "metadata": {},
   "outputs": [
    {
     "name": "stdout",
     "output_type": "stream",
     "text": [
      "[[ 0.5 -0.5]\n",
      " [ 0.5 -0.5]]\n"
     ]
    }
   ],
   "source": [
    "# importing the module \n",
    "import numpy as np\n",
    "from numpy import linalg as LA\n",
    "  \n",
    "# creating two matrices \n",
    "A = np.array([[1/2, 1/2],[1/2, 1/2]])\n",
    "B = np.array([[1, 0], [0, -1]])\n",
    "C = np.dot(A,B)\n",
    "print(C)"
   ]
  },
  {
   "cell_type": "code",
   "execution_count": 29,
   "id": "ef488185-9e37-4e53-9cef-f42bf65999e5",
   "metadata": {},
   "outputs": [
    {
     "name": "stdout",
     "output_type": "stream",
     "text": [
      "[[0.5 0.5]\n",
      " [0.5 0.5]]\n",
      "[[ 1  0]\n",
      " [ 0 -1]]\n",
      "[[1 0]\n",
      " [0 1]]\n",
      "[[0. 0.]\n",
      " [0. 0.]]\n"
     ]
    }
   ],
   "source": [
    "print(LA.matrix_power(A, 37))\n",
    "print(LA.matrix_power(B, 63))\n",
    "print(LA.matrix_power(B, 138))\n",
    "print(LA.matrix_power(C, 42))"
   ]
  },
  {
   "cell_type": "markdown",
   "id": "a482c3f2-a86d-4172-8e67-bfb50d65b27d",
   "metadata": {},
   "source": [
    "Question 2:"
   ]
  },
  {
   "cell_type": "code",
   "execution_count": 32,
   "id": "acab5ffa-ead3-4c31-81e4-cad83c455dca",
   "metadata": {},
   "outputs": [
    {
     "name": "stdout",
     "output_type": "stream",
     "text": [
      "[[-1. -0.]\n",
      " [-0. -1.]]\n"
     ]
    }
   ],
   "source": [
    "I = np.identity(2)\n",
    "neg_I = -I\n",
    "print(neg_I)"
   ]
  },
  {
   "cell_type": "markdown",
   "id": "d409bf58-9ba6-47e1-a497-f4330f3834f4",
   "metadata": {},
   "source": [
    "Question 3:"
   ]
  },
  {
   "cell_type": "code",
   "execution_count": 50,
   "id": "b5b75e63-89dc-4df1-a904-a60a3f7e05db",
   "metadata": {},
   "outputs": [
    {
     "name": "stdout",
     "output_type": "stream",
     "text": [
      "7.95854215137929 4.830871902943531 5.17341552630798\n"
     ]
    }
   ],
   "source": [
    "#define initial guesses:\n",
    "x0 = 20\n",
    "y0 = 20\n",
    "z0 = 1\n",
    "\n",
    "# Setting error to move into the while loop\n",
    "error=20\n",
    "\n",
    "# Setting up iteration counter\n",
    "count=0\n",
    "\n",
    "while error>1.E-6:\n",
    "    count+=1\n",
    "    x = (800-3*y0+2*z0)/100\n",
    "    y = (1000-x0-5*z0)/200\n",
    "    z = (500 + 4*x0 - 3*y0)/100\n",
    "\n",
    "    error = abs(x-x0)+abs(y-y0)+abs(z-z0)\n",
    "\n",
    "    x0 = x\n",
    "    y0 = y\n",
    "    z0 = z\n",
    "print(x, y, z)\n",
    "    "
   ]
  },
  {
   "cell_type": "markdown",
   "id": "432101ad-cfa1-406a-b7d9-2a9d782e8e5c",
   "metadata": {},
   "source": [
    "Question 4:\n"
   ]
  },
  {
   "cell_type": "code",
   "execution_count": null,
   "id": "b90f81d5-97da-4648-8901-98344df68ee7",
   "metadata": {},
   "outputs": [],
   "source": []
  }
 ],
 "metadata": {
  "kernelspec": {
   "display_name": "Python 3 (ipykernel)",
   "language": "python",
   "name": "python3"
  },
  "language_info": {
   "codemirror_mode": {
    "name": "ipython",
    "version": 3
   },
   "file_extension": ".py",
   "mimetype": "text/x-python",
   "name": "python",
   "nbconvert_exporter": "python",
   "pygments_lexer": "ipython3",
   "version": "3.12.7"
  }
 },
 "nbformat": 4,
 "nbformat_minor": 5
}
