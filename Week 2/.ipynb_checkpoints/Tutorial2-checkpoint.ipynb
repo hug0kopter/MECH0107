{
 "cells": [
  {
   "cell_type": "code",
   "execution_count": null,
   "id": "624fda94-b093-405b-9af9-5ae79668c5e0",
   "metadata": {},
   "outputs": [],
   "source": [
    "import numpy as np"
   ]
  }
 ],
 "metadata": {
  "kernelspec": {
   "display_name": "Python 3 (ipykernel)",
   "language": "python",
   "name": "python3"
  },
  "language_info": {
   "codemirror_mode": {
    "name": "ipython",
    "version": 3
   },
   "file_extension": ".py",
   "mimetype": "text/x-python",
   "name": "python",
   "nbconvert_exporter": "python",
   "pygments_lexer": "ipython3",
   "version": "3.12.7"
  }
 },
 "nbformat": 4,
 "nbformat_minor": 5
}
